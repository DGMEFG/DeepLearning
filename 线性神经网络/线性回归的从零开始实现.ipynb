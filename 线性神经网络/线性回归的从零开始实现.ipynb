{
 "cells": [
  {
   "cell_type": "code",
   "execution_count": 17,
   "metadata": {},
   "outputs": [],
   "source": [
    "%matplotlib inline\n",
    "import numpy as np\n",
    "import matplotlib as ma\n",
    "import matplotlib.pyplot as plt\n",
    "import torch\n",
    "import random\n",
    "from tqdm import tqdm"
   ]
  },
  {
   "cell_type": "code",
   "execution_count": 2,
   "metadata": {},
   "outputs": [],
   "source": [
    "seed = 42"
   ]
  },
  {
   "attachments": {},
   "cell_type": "markdown",
   "metadata": {},
   "source": [
    "### 1.生成数据集\n",
    "\n",
    "设 $\\mathrm{w} = [2,-3.4]^\\top, b = 4.2, \\mathrm{X} \\in \\mathbb{R}^{1000\\times 2}$\n",
    "$$\\mathrm{y} = \\mathrm{Xw} + b + \\epsilon$$"
   ]
  },
  {
   "cell_type": "code",
   "execution_count": 50,
   "metadata": {},
   "outputs": [],
   "source": [
    "def synthetic_data(w, b, nums):\n",
    "    X = torch.normal(0, 1, (nums,len(w)))\n",
    "    y = torch.matmul(X, w) + b\n",
    "    y += torch.normal(0, 0.01, y.shape)\n",
    "    return X, y.view(-1)\n",
    "\n",
    "true_w = torch.tensor([2,-3.4])\n",
    "true_b = 4.2\n",
    "features, labels = synthetic_data(true_w, true_b, 1000)"
   ]
  },
  {
   "cell_type": "code",
   "execution_count": 51,
   "metadata": {},
   "outputs": [
    {
     "name": "stdout",
     "output_type": "stream",
     "text": [
      "features: tensor([0.4036, 1.8540]) \n",
      "label: tensor(-1.3114)\n"
     ]
    }
   ],
   "source": [
    "print('features:', features[0], '\\nlabel:', labels[0])"
   ]
  },
  {
   "cell_type": "code",
   "execution_count": 52,
   "metadata": {},
   "outputs": [
    {
     "data": {
      "text/plain": [
       "<matplotlib.collections.PathCollection at 0x225039cc7c0>"
      ]
     },
     "execution_count": 52,
     "metadata": {},
     "output_type": "execute_result"
    },
    {
     "data": {
      "image/png": "[encoded data removed]",
      "text/plain": [
       "<Figure size 640x480 with 1 Axes>"
      ]
     },
     "metadata": {},
     "output_type": "display_data"
    }
   ],
   "source": [
    "plt.scatter(features[:,1].detach().numpy(), labels.detach().numpy(), 1)"
   ]
  },
  {
   "attachments": {},
   "cell_type": "markdown",
   "metadata": {},
   "source": [
    "### 2. 读取数据集\n",
    "\n",
    "每次只访问一些数据，优于直接加载全部数据"
   ]
  },
  {
   "cell_type": "code",
   "execution_count": 53,
   "metadata": {},
   "outputs": [],
   "source": [
    "def data_iter(batch_size, features, labels):\n",
    "    nums_examples = len(features)\n",
    "    indics = list(range(nums_examples))\n",
    "    random.shuffle(indics)\n",
    "    for i in range(0, nums_examples, batch_size):\n",
    "        batch_indics = torch.tensor(\n",
    "            indics[i: min(i + batch_size, nums_examples)])\n",
    "        yield features[batch_indics], labels[batch_indics]"
   ]
  },
  {
   "cell_type": "code",
   "execution_count": 54,
   "metadata": {},
   "outputs": [
    {
     "name": "stdout",
     "output_type": "stream",
     "text": [
      "tensor([[-1.2209, -0.9452],\n",
      "        [ 0.6989,  0.3759],\n",
      "        [ 0.5594,  1.0789],\n",
      "        [-0.3988, -1.0976],\n",
      "        [ 0.6800, -0.0827],\n",
      "        [ 0.5324,  0.1876],\n",
      "        [-1.1538,  2.9276],\n",
      "        [-0.3595, -1.4755],\n",
      "        [ 0.6261,  0.3905],\n",
      "        [ 2.5675,  1.4942]]) \n",
      " tensor([ 4.9750,  4.3222,  1.6708,  7.1295,  5.8147,  4.6408, -8.0635,  8.4930,\n",
      "         4.1265,  4.2616])\n"
     ]
    }
   ],
   "source": [
    "batch_size = 10\n",
    "\n",
    "for X, y in data_iter(batch_size, features, labels):\n",
    "    print(X, '\\n', y)\n",
    "    break"
   ]
  },
  {
   "attachments": {},
   "cell_type": "markdown",
   "metadata": {},
   "source": [
    "### 3. 初始化模型参数"
   ]
  },
  {
   "cell_type": "code",
   "execution_count": 55,
   "metadata": {},
   "outputs": [],
   "source": [
    "# w = torch.normal(0, 0.01, size=(2, 1), requires_grad=True)\n",
    "# b = torch.zeros(1, requires_grad=True)\n",
    "\n",
    "w = torch.zeros(size=(2, 1), requires_grad=True)\n",
    "b = torch.zeros(1, requires_grad=True)"
   ]
  },
  {
   "attachments": {},
   "cell_type": "markdown",
   "metadata": {},
   "source": [
    "### 4. 定义模型"
   ]
  },
  {
   "cell_type": "code",
   "execution_count": 56,
   "metadata": {},
   "outputs": [],
   "source": [
    "def LinearModel(X, w, b):\n",
    "    return torch.matmul(X, w) + b"
   ]
  },
  {
   "attachments": {},
   "cell_type": "markdown",
   "metadata": {},
   "source": [
    "### 5. 定义损失函数"
   ]
  },
  {
   "cell_type": "code",
   "execution_count": 57,
   "metadata": {},
   "outputs": [],
   "source": [
    "def square_loss(y_hat, y):\n",
    "    return (y.reshape(y_hat.shape) - y_hat) ** 2 / 2"
   ]
  },
  {
   "cell_type": "markdown",
   "metadata": {},
   "source": [
    "### 6. 定义优化算法"
   ]
  },
  {
   "cell_type": "code",
   "execution_count": 58,
   "metadata": {},
   "outputs": [],
   "source": [
    "def sgd(params, lr, batch_size):\n",
    "    with torch.no_grad():\n",
    "        for param in params:\n",
    "            param -= lr * param.grad / batch_size #计算图的梯度已经在前向过程计算好了\n",
    "            param.grad.zero_()"
   ]
  },
  {
   "cell_type": "markdown",
   "metadata": {},
   "source": [
    "### 7. 训练"
   ]
  },
  {
   "cell_type": "code",
   "execution_count": 59,
   "metadata": {},
   "outputs": [
    {
     "name": "stderr",
     "output_type": "stream",
     "text": [
      "100%|██████████| 3/3 [00:00<00:00, 37.23it/s]"
     ]
    },
    {
     "name": "stdout",
     "output_type": "stream",
     "text": [
      "epoch 1, loss 0.040458\n",
      "epoch 2, loss 0.000150\n",
      "epoch 3, loss 0.000048\n"
     ]
    },
    {
     "name": "stderr",
     "output_type": "stream",
     "text": [
      "\n"
     ]
    }
   ],
   "source": [
    "lr = 0.03\n",
    "num_epochs = 3\n",
    "\n",
    "for epoch in tqdm(range(num_epochs)):\n",
    "    for X, y in data_iter(batch_size, features, labels):\n",
    "        loss = square_loss(LinearModel(X, w, b), y)\n",
    "        loss.sum().backward()\n",
    "        sgd([w, b], lr, batch_size)\n",
    "    with torch.no_grad():\n",
    "        train_loss = square_loss(LinearModel(features, w, b), labels)\n",
    "        print(f'epoch {epoch + 1}, loss {float(train_loss.mean()):f}')"
   ]
  },
  {
   "cell_type": "code",
   "execution_count": 60,
   "metadata": {},
   "outputs": [
    {
     "name": "stdout",
     "output_type": "stream",
     "text": [
      "w的估计误差: tensor([-1.1778e-04, -4.4346e-05], grad_fn=<SubBackward0>)\n",
      "b的估计误差: tensor([-0.0002], grad_fn=<RsubBackward1>)\n"
     ]
    }
   ],
   "source": [
    "print(f'w的估计误差: {true_w - w.reshape(true_w.shape)}')\n",
    "print(f'b的估计误差: {true_b - b}')"
   ]
  },
  {
   "cell_type": "code",
   "execution_count": null,
   "metadata": {},
   "outputs": [],
   "source": []
  }
 ],
 "metadata": {
  "kernelspec": {
   "display_name": "ML",
   "language": "python",
   "name": "python3"
  },
  "language_info": {
   "codemirror_mode": {
    "name": "ipython",
    "version": 3
   },
   "file_extension": ".py",
   "mimetype": "text/x-python",
   "name": "python",
   "nbconvert_exporter": "python",
   "pygments_lexer": "ipython3",
   "version": "3.10.13"
  },
  "orig_nbformat": 4,
  "vscode": {
   "interpreter": {
    "hash": "bfcdffa8cd93097f0f0dcf7af30866aae111c31163833aba8e436105b8f59ac8"
   }
  }
 },
 "nbformat": 4,
 "nbformat_minor": 2
}
