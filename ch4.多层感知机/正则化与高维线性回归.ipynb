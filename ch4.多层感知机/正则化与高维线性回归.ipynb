{
 "cells": [
  {
   "cell_type": "code",
   "execution_count": 2,
   "metadata": {},
   "outputs": [],
   "source": [
    "import torch\n",
    "from torch import nn\n",
    "from __init__ import init\n",
    "init()\n",
    "from utils.util import *\n",
    "from model.train import *"
   ]
  },
  {
   "cell_type": "code",
   "execution_count": 6,
   "metadata": {},
   "outputs": [
    {
     "data": {
      "text/latex": [
       "$\\displaystyle - \\frac{2 x_{12}}{x_{11} x_{22} - x_{12}^{2}}$"
      ],
      "text/plain": [
       "-2*x12/(x11*x22 - x12**2)"
      ]
     },
     "execution_count": 6,
     "metadata": {},
     "output_type": "execute_result"
    }
   ],
   "source": [
    "from sympy import symbols, Matrix, log, diff\n",
    "\n",
    "# 定义符号变量\n",
    "x11, x12, x13 = symbols('x11 x12 x13')\n",
    "x21, x22, x23 = symbols('x21 x22 x23')\n",
    "x31, x32, x33 = symbols('x31 x32 x33')\n",
    "\n",
    "# 定义对称矩阵X\n",
    "X = Matrix([[x11, x12],\n",
    "           [x12, x22]])\n",
    "\n",
    "# 计算det(X)和log(det(X))\n",
    "det_X = X.det()\n",
    "log_det_X = log(det_X)\n",
    "\n",
    "# 计算log(det(X))对X的倒数\n",
    "d_log_det_X = diff(log_det_X, x12)\n",
    "d_log_det_X\n"
   ]
  },
  {
   "cell_type": "code",
   "execution_count": null,
   "metadata": {},
   "outputs": [],
   "source": []
  }
 ],
 "metadata": {
  "kernelspec": {
   "display_name": "Python 3",
   "language": "python",
   "name": "python3"
  },
  "language_info": {
   "codemirror_mode": {
    "name": "ipython",
    "version": 3
   },
   "file_extension": ".py",
   "mimetype": "text/x-python",
   "name": "python",
   "nbconvert_exporter": "python",
   "pygments_lexer": "ipython3",
   "version": "3.10.0"
  },
  "orig_nbformat": 4,
  "vscode": {
   "interpreter": {
    "hash": "bfcdffa8cd93097f0f0dcf7af30866aae111c31163833aba8e436105b8f59ac8"
   }
  }
 },
 "nbformat": 4,
 "nbformat_minor": 2
}
